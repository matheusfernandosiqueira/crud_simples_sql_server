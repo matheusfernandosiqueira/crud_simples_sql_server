{
 "cells": [
  {
   "cell_type": "markdown",
   "metadata": {},
   "source": [
    "# CRUD simples no Python utilizando SQL Server."
   ]
  },
  {
   "cell_type": "markdown",
   "metadata": {},
   "source": [
    "Para poder testar esse código, altere o ```config.ini``` e crie um banco chamado BandoDeClientes."
   ]
  },
  {
   "cell_type": "code",
   "execution_count": 12,
   "metadata": {},
   "outputs": [],
   "source": [
    "import pyodbc\n",
    "import configparser"
   ]
  },
  {
   "cell_type": "code",
   "execution_count": 13,
   "metadata": {},
   "outputs": [
    {
     "name": "stdout",
     "output_type": "stream",
     "text": [
      "{'Driver': '{SQL Server}', 'Server': 'DESKTOP-UMMM2O6\\\\SQLEXPRESS', 'Database': 'BancoDeClientes', 'Trusted_Connection': 'yes'}\n"
     ]
    }
   ],
   "source": [
    "# Lendo o arquivo ini.\n",
    "config = configparser.ConfigParser()\n",
    "config.read('config.ini')\n",
    "\n",
    "# Colocando as chaves correspondem do arquivo. \n",
    "chaves = ['Driver', 'Server', 'Database', 'Trusted_Connection']\n",
    "\n",
    "valores_conexao = {}\n",
    "\n",
    "for chave in chaves:\n",
    "    valores_conexao[chave] = config.get('conexaoSQL', chave)\n",
    "\n",
    "dados_conexao = (\n",
    "    f\"Driver={valores_conexao['Driver']};\"\n",
    "    f\"Server={valores_conexao['Server']};\"\n",
    "    f\"Database={valores_conexao['Database']};\"\n",
    "    f\"Trusted_Connection={valores_conexao['Trusted_Connection']};\"\n",
    ")"
   ]
  },
  {
   "cell_type": "code",
   "execution_count": 14,
   "metadata": {},
   "outputs": [],
   "source": [
    "tabela_informacao_cliente = \"\"\"\n",
    "    CREATE TABLE informacao_cliente (\n",
    "        CPF VARCHAR(11) PRIMARY KEY, \n",
    "        Nome VARCHAR(255),\n",
    "        Endereco VARCHAR(255),\n",
    "        Telefone VARCHAR(255)\n",
    "    )\n",
    "\"\"\""
   ]
  },
  {
   "cell_type": "code",
   "execution_count": 15,
   "metadata": {},
   "outputs": [
    {
     "name": "stdout",
     "output_type": "stream",
     "text": [
      "Tabela existente excluída.\n",
      "Tabela criada com sucesso!\n"
     ]
    }
   ],
   "source": [
    "# Tentando estabelecer a conexão\n",
    "try:\n",
    "    conexao = pyodbc.connect(dados_conexao)\n",
    "    cursor = conexao.cursor()\n",
    "\n",
    "   # Verificando se a tabela informacao_cliente existe.\n",
    "    cursor.execute(\"SELECT * FROM INFORMATION_SCHEMA.TABLES WHERE TABLE_NAME = 'informacao_cliente'\")\n",
    "    existe_informacao_cliente = cursor.fetchone() is not None\n",
    "\n",
    "    # Se existir, ele irá deletá-las. \n",
    "    if existe_informacao_cliente:\n",
    "        cursor.execute(\"DROP TABLE informacao_cliente\")\n",
    "        print(\"Tabela existente excluída.\")\n",
    "        \n",
    "    \n",
    "    cursor.execute(tabela_informacao_cliente)\n",
    "    conexao.commit()\n",
    "    print(\"Tabela criada com sucesso!\")\n",
    "    conexao.close()\n",
    "\n",
    "except pyodbc as e:\n",
    "    print(f\"Erro ao conectar ao banco de dados: {str(e)}\")\n"
   ]
  },
  {
   "cell_type": "markdown",
   "metadata": {},
   "source": [
    "### CREATE"
   ]
  },
  {
   "cell_type": "code",
   "execution_count": 16,
   "metadata": {},
   "outputs": [],
   "source": [
    "def criar_cliente(cpf, nome, endereco, telefone):\n",
    "    try:\n",
    "        conexao = pyodbc.connect(dados_conexao)\n",
    "        cursor = conexao.cursor()\n",
    "\n",
    "        # Inserir um novo cliente\n",
    "        cursor.execute(\"\"\"INSERT INTO informacao_cliente \n",
    "                       (CPF, Nome, Endereco, Telefone) \n",
    "                       VALUES \n",
    "                       (?, ?, ?, ?)\n",
    "                       \"\"\", cpf, nome, endereco, telefone)\n",
    "        conexao.commit()\n",
    "        print(\"Cliente criado com sucesso!\")\n",
    "\n",
    "    except pyodbc.Error as e:\n",
    "        print(f\"Erro ao criar cliente: {str(e)}\")"
   ]
  },
  {
   "cell_type": "markdown",
   "metadata": {},
   "source": [
    "### READ"
   ]
  },
  {
   "cell_type": "code",
   "execution_count": 17,
   "metadata": {},
   "outputs": [],
   "source": [
    "def ler_cliente(cpf):\n",
    "    try:\n",
    "        conexao = pyodbc.connect(dados_conexao)\n",
    "        cursor = conexao.cursor()\n",
    "\n",
    "        # Através do CPF traz todas as informações do cliente.\n",
    "        cursor.execute(\"\"\"SELECT * FROM informacao_cliente \n",
    "                       WHERE \n",
    "                       CPF = ?\n",
    "                       \"\"\",\n",
    "                         cpf)\n",
    "        \n",
    "    \n",
    "        cpf_existe = cursor.fetchone()\n",
    "\n",
    "        #Se o CPF existe, então irá trazer de volta, caso contrário, irá retornar que não existe.\n",
    "        if cpf_existe:\n",
    "            print(f\"\"\"\n",
    "                    CPF: {cpf_existe.CPF}\n",
    "                    Nome: {cpf_existe.Nome}, \n",
    "                    Endereço: {cpf_existe.Endereco},\n",
    "                    Telefone: {cpf_existe.Telefone}\"\"\")\n",
    "        else:\n",
    "            print(\"Não há nenhum cliente com esse CPF.\")\n",
    "\n",
    "    except pyodbc.Error as e:\n",
    "        print(f\"Erro ao ler cliente: {str(e)}\")"
   ]
  },
  {
   "cell_type": "markdown",
   "metadata": {},
   "source": [
    "### UPDATE"
   ]
  },
  {
   "cell_type": "code",
   "execution_count": 18,
   "metadata": {},
   "outputs": [],
   "source": [
    "def atualizar_cliente(cpf, nome=None, endereco=None, telefone=None):\n",
    "    try:\n",
    "        conexao = pyodbc.connect(dados_conexao)\n",
    "        cursor = conexao.cursor()\n",
    "\n",
    "        # Query para atualizar o cadastro.\n",
    "        consulta_sql = \"UPDATE informacao_cliente SET \"\n",
    "        valores = []\n",
    "\n",
    "        # Criando uma tupla para cada valor fornecido. \n",
    "        atualizar_campos = [(\"Nome\", nome), (\"Endereco\", endereco), (\"Telefone\", telefone)]\n",
    "\n",
    "        # Ver a quantidade de campos selecionados e atualizar os campos fornecidos.\n",
    "        for campo, valor in atualizar_campos:\n",
    "            if valor is not None:\n",
    "                consulta_sql += f\"{campo} = ?, \"\n",
    "                valores.append(valor)\n",
    "        \n",
    "        # Removendo a ultima virgula que é adicionada toda vez que o loop entra. \n",
    "        consulta_sql = consulta_sql.rstrip(\", \")\n",
    "\n",
    "\n",
    "        # Adicionando o WHERE no Final com o CPF fornecido inicialmente.\n",
    "        consulta_sql += \" WHERE CPF = ?\"\n",
    "        valores.append(cpf)\n",
    "        print(consulta_sql)\n",
    "        print(valores)\n",
    "\n",
    "\n",
    "        cursor.execute(consulta_sql, *valores)\n",
    "        conexao.commit()\n",
    "        print(\"Cliente atualizado com sucesso!\")\n",
    "\n",
    "    except pyodbc.Error as e:\n",
    "        print(f\"Erro ao atualizar cliente: {str(e)}\")"
   ]
  },
  {
   "cell_type": "markdown",
   "metadata": {},
   "source": [
    "### DELETE"
   ]
  },
  {
   "cell_type": "code",
   "execution_count": 20,
   "metadata": {},
   "outputs": [],
   "source": [
    "def deletar_cliente(cpf):\n",
    "    try:\n",
    "        conexao = pyodbc.connect(dados_conexao)\n",
    "        cursor = conexao.cursor()\n",
    "\n",
    "        # Deletar um cliente com base no CPF\n",
    "        cursor.execute(\"DELETE FROM informacao_cliente WHERE CPF = ?\", cpf)\n",
    "        conexao.commit()\n",
    "        print(\"Cliente deletado com sucesso!\")\n",
    "\n",
    "    except pyodbc.Error as e:\n",
    "        print(f\"Erro ao deletar cliente: {str(e)}\")"
   ]
  }
 ],
 "metadata": {
  "kernelspec": {
   "display_name": "Python 3",
   "language": "python",
   "name": "python3"
  },
  "language_info": {
   "codemirror_mode": {
    "name": "ipython",
    "version": 3
   },
   "file_extension": ".py",
   "mimetype": "text/x-python",
   "name": "python",
   "nbconvert_exporter": "python",
   "pygments_lexer": "ipython3",
   "version": "3.9.12"
  }
 },
 "nbformat": 4,
 "nbformat_minor": 2
}
